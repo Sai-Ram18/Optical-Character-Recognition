{
  "nbformat": 4,
  "nbformat_minor": 0,
  "metadata": {
    "colab": {
      "provenance": []
    },
    "kernelspec": {
      "name": "python3",
      "display_name": "Python 3"
    },
    "language_info": {
      "name": "python"
    }
  },
  "cells": [
    {
      "cell_type": "code",
      "execution_count": 13,
      "metadata": {
        "colab": {
          "base_uri": "https://localhost:8080/"
        },
        "id": "3E977K-RDoPs",
        "outputId": "fe70bb33-8f51-4e27-e835-fd7b4deac666"
      },
      "outputs": [
        {
          "output_type": "stream",
          "name": "stdout",
          "text": [
            "Requirement already satisfied: easyocr in /usr/local/lib/python3.10/dist-packages (1.7.1)\n",
            "Requirement already satisfied: torch in /usr/local/lib/python3.10/dist-packages (from easyocr) (2.4.0+cu121)\n",
            "Requirement already satisfied: torchvision>=0.5 in /usr/local/lib/python3.10/dist-packages (from easyocr) (0.19.0+cu121)\n",
            "Requirement already satisfied: opencv-python-headless in /usr/local/lib/python3.10/dist-packages (from easyocr) (4.10.0.84)\n",
            "Requirement already satisfied: scipy in /usr/local/lib/python3.10/dist-packages (from easyocr) (1.13.1)\n",
            "Requirement already satisfied: numpy in /usr/local/lib/python3.10/dist-packages (from easyocr) (1.26.4)\n",
            "Requirement already satisfied: Pillow in /usr/local/lib/python3.10/dist-packages (from easyocr) (9.4.0)\n",
            "Requirement already satisfied: scikit-image in /usr/local/lib/python3.10/dist-packages (from easyocr) (0.23.2)\n",
            "Requirement already satisfied: python-bidi in /usr/local/lib/python3.10/dist-packages (from easyocr) (0.6.0)\n",
            "Requirement already satisfied: PyYAML in /usr/local/lib/python3.10/dist-packages (from easyocr) (6.0.2)\n",
            "Requirement already satisfied: Shapely in /usr/local/lib/python3.10/dist-packages (from easyocr) (2.0.6)\n",
            "Requirement already satisfied: pyclipper in /usr/local/lib/python3.10/dist-packages (from easyocr) (1.3.0.post5)\n",
            "Requirement already satisfied: ninja in /usr/local/lib/python3.10/dist-packages (from easyocr) (1.11.1.1)\n",
            "Requirement already satisfied: filelock in /usr/local/lib/python3.10/dist-packages (from torch->easyocr) (3.15.4)\n",
            "Requirement already satisfied: typing-extensions>=4.8.0 in /usr/local/lib/python3.10/dist-packages (from torch->easyocr) (4.12.2)\n",
            "Requirement already satisfied: sympy in /usr/local/lib/python3.10/dist-packages (from torch->easyocr) (1.13.2)\n",
            "Requirement already satisfied: networkx in /usr/local/lib/python3.10/dist-packages (from torch->easyocr) (3.3)\n",
            "Requirement already satisfied: jinja2 in /usr/local/lib/python3.10/dist-packages (from torch->easyocr) (3.1.4)\n",
            "Requirement already satisfied: fsspec in /usr/local/lib/python3.10/dist-packages (from torch->easyocr) (2024.6.1)\n",
            "Requirement already satisfied: imageio>=2.33 in /usr/local/lib/python3.10/dist-packages (from scikit-image->easyocr) (2.34.2)\n",
            "Requirement already satisfied: tifffile>=2022.8.12 in /usr/local/lib/python3.10/dist-packages (from scikit-image->easyocr) (2024.8.10)\n",
            "Requirement already satisfied: packaging>=21 in /usr/local/lib/python3.10/dist-packages (from scikit-image->easyocr) (24.1)\n",
            "Requirement already satisfied: lazy-loader>=0.4 in /usr/local/lib/python3.10/dist-packages (from scikit-image->easyocr) (0.4)\n",
            "Requirement already satisfied: MarkupSafe>=2.0 in /usr/local/lib/python3.10/dist-packages (from jinja2->torch->easyocr) (2.1.5)\n",
            "Requirement already satisfied: mpmath<1.4,>=1.1.0 in /usr/local/lib/python3.10/dist-packages (from sympy->torch->easyocr) (1.3.0)\n"
          ]
        }
      ],
      "source": [
        "!pip install easyocr\n",
        "import easyocr\n",
        "import torch\n"
      ]
    },
    {
      "cell_type": "code",
      "source": [
        "#Module1\n",
        "import cv2\n",
        "import easyocr\n",
        "import time\n",
        "import torch\n",
        "\n",
        "\n",
        "device = 'cuda' if torch.cuda.is_available() else 'cpu'\n",
        "\n",
        "\n",
        "reader = easyocr.Reader(['en'], gpu=torch.cuda.is_available())\n",
        "\n",
        "\n",
        "input_video_path =  '/content/video_input.mp4'\n",
        "\n",
        "cap = cv2.VideoCapture(input_video_path)\n",
        "\n",
        "\n",
        "fps = cap.get(cv2.CAP_PROP_FPS)\n",
        "frame_count = int(cap.get(cv2.CAP_PROP_FRAME_COUNT))\n",
        "frame_skip=100\n",
        "frame_number=0\n",
        "duration = frame_count / fps\n",
        "\n",
        "print(f\"Video FPS: {fps}, Total Frames: {frame_count}, Duration: {duration} seconds\")\n",
        "\n",
        "\n",
        "start_time = time.time()\n",
        "\n",
        "while cap.isOpened():\n",
        "    ret, frame = cap.read()\n",
        "    if not ret:\n",
        "        break\n",
        "\n",
        "    if frame_number % frame_skip == 0:\n",
        "        frame_rgb = cv2.cvtColor(frame, cv2.COLOR_BGR2RGB)\n",
        "        result = reader.readtext(frame_rgb)\n",
        "        print(f\"Frame {frame_number}: {result}\")\n",
        "\n",
        "    frame_number += 1\n",
        "\n",
        "end_time = time.time()\n",
        "cap.release()\n",
        "\n",
        "print(\"Total Processing Time on GPU:\", end_time - start_time, \"seconds\")"
      ],
      "metadata": {
        "colab": {
          "base_uri": "https://localhost:8080/"
        },
        "id": "uGnKxP8RD6Db",
        "outputId": "abc5c995-245d-4a14-aa13-d1cffdf79b3d"
      },
      "execution_count": 14,
      "outputs": [
        {
          "metadata": {
            "tags": null
          },
          "name": "stderr",
          "output_type": "stream",
          "text": [
            "WARNING:easyocr.easyocr:Using CPU. Note: This module is much faster with a GPU.\n"
          ]
        },
        {
          "output_type": "stream",
          "name": "stdout",
          "text": [
            "Video FPS: 30.0, Total Frames: 249, Duration: 8.3 seconds\n",
            "Frame 0: [([[2651, 242], [3052, 242], [3052, 475], [2651, 475]], 'N7', 0.10492068987582998), ([[1601, 481], [1924, 481], [1924, 675], [1601, 675]], 'Huie', 0.012775683775544167), ([[679, 613], [1267, 613], [1267, 781], [679, 781]], 'PLEASE', 0.47679654650264114), ([[1801, 661], [1904, 661], [1904, 782], [1801, 782]], '4', 0.91862381172092), ([[2090, 668], [2519, 668], [2519, 755], [2090, 755]], 'Di 5Acr', 0.2067291518670909), ([[3265, 820], [3493, 820], [3493, 912], [3265, 912]], 'F', 0.01759860483801745), ([[2201, 895], [2789, 895], [2789, 1016], [2201, 1016]], 'OVERDRESS.', 0.904119221623745), ([[3320, 905], [3577, 905], [3577, 994], [3320, 994]], 'DLi', 0.022779373340367576), ([[3656, 884], [3840, 884], [3840, 983], [3656, 983]], 'Wop', 0.6491166262741099), ([[810, 987], [1789, 987], [1789, 1161], [810, 1161]], 'WORKING HARD', 0.9359765702639843), ([[3345, 1184], [3674, 1184], [3674, 1308], [3345, 1308]], 'TODAY', 0.9808953015647325), ([[3273, 1255], [3840, 1255], [3840, 1404], [3273, 1404]], 'IS THE DAY.', 0.49663595922139414), ([[1266, 1321], [2085, 1321], [2085, 1495], [1266, 1495]], '\"CREATivITY', 0.4293968552300029), ([[1173, 1494], [1322, 1494], [1322, 1607], [1173, 1607]], 'IS', 0.9497087092264069), ([[1333, 1396], [2244, 1396], [2244, 1600], [1333, 1600]], 'ETELLiGENCE', 0.2826427121088266), ([[1825, 1530], [2145, 1530], [2145, 1653], [1825, 1653]], 'FUN:', 0.9629870653152466), ([[1614, 1717], [1786, 1717], [1786, 1784], [1614, 1784]], 'Albert', 0.7150195433425577), ([[1339.8397803242997, 570.1016714375761], [1609.7149512011579, 527.200936535892], [1626.1602196757003, 721.8983285624239], [1357.2850487988421, 765.799063464108]], 'VME', 0.5145925930753636), ([[1304.6915871093647, 1596.4280310155857], [1801.4560912198292, 1554.2790066483137], [1802.3084128906353, 1659.5719689844143], [1304.5439087801708, 1702.7209933516863]], 'HAVING', 0.9974546367151262), ([[1779.6076433315134, 1713.4975796624806], [1986.7008094524708, 1696.128965102779], [1988.3923566684866, 1747.5024203375194], [1780.2991905475292, 1763.871034897221]], 'Elnsteln', 0.8265168910261208)]\n",
            "Frame 100: [([[547, 457], [874, 457], [874, 653], [547, 653]], 'Hui', 0.2931775705375827), ([[0, 599], [82, 599], [82, 730], [0, 730]], '3', 0.29871602912648143), ([[1038, 672], [1164, 672], [1164, 744], [1038, 744]], 'DI', 0.6578376610238938), ([[1191, 669], [1530, 669], [1530, 744], [1191, 744]], 'CAcc', 0.35647737979888916), ([[338, 704], [529, 704], [529, 868], [338, 868]], 'NE', 0.47539716048361), ([[976, 908], [1641, 908], [1641, 1022], [976, 1022]], 'OVERDRESS.', 0.6757107757807871), ([[2462, 903], [3247, 903], [3247, 1030], [2462, 1030]], 'WORKING HARD', 0.7457316345728843), ([[0, 999], [219, 999], [219, 1110], [0, 1110]], 'RD', 0.9953350215856612), ([[2525, 996], [3252, 996], [3252, 1134], [2525, 1134]], 'AND WORKING', 0.8798842119450572), ([[2523, 1099], [3305, 1099], [3305, 1239], [2523, 1239]], 'SMART CAN BE', 0.9993505783080496), ([[2793, 1193], [3350, 1193], [3350, 1304], [2793, 1304]], 'DIfferent', 0.069485327282285), ([[1701, 1257], [2099, 1257], [2099, 1374], [1701, 1374]], 'TODAY', 0.8015054799580643), ([[0, 1366], [137, 1366], [137, 1469], [0, 1469]], 'TY', 0.2215148169879433), ([[1569, 1340], [2284, 1340], [2284, 1484], [1569, 1484]], 'IS THE DAY.', 0.5722410330164867), ([[0, 1462], [278, 1462], [278, 1578], [0, 1578]], 'NCE', 0.9992473621201314), ([[0, 1584], [172, 1584], [172, 1681], [0, 1681]], '4\"', 0.5044829368181767), ([[2761.8077512354766, 183.02091021107992], [3225.286309416014, 249.68959643266075], [3170.1922487645234, 535.9790897889201], [2706.713690583986, 470.3104035673393]], 'N7', 0.08515291790079846), ([[255.36281608526107, 562.1662470735625], [540.7999091925782, 507.1666031103607], [560.6371839147389, 682.8337529264375], [276.20009080742176, 738.8333968896393]], 'JME', 0.680273472844474), ([[527.3295493643074, 668.1704850415971], [860.6714410660344, 607.2303855664417], [878.6704506356926, 787.8295149584029], [545.3285589339656, 848.7696144335583]], 'MEA', 0.08856105935895782), ([[461.7307572038632, 860.1229662755414], [833.7436529239118, 811.7677793417439], [842.2692427961368, 993.8770337244586], [471.25634707608816, 1041.2322206582562]], 'TO V', 0.11320383101701736)]\n",
            "Frame 200: [([[67, 454], [365, 454], [365, 518], [67, 518]], 'r~', 0.011242685715087845), ([[2902, 578], [3421, 578], [3421, 667], [2902, 667]], '15i', 0.004373260012108143), ([[2937, 645], [3428, 645], [3428, 742], [2937, 742]], 'CoTL', 0.08323255181312561), ([[0, 732], [679, 732], [679, 861], [0, 861]], 'ERDRESS:', 0.8723042859564676), ([[1613, 705], [2731, 705], [2731, 868], [1613, 868]], 'WORKING HARD', 0.8150538087673476), ([[2960, 728], [3442, 728], [3442, 814], [2960, 814]], 'OullL', 0.015891688116931847), ([[3660, 696], [3840, 696], [3840, 810], [3660, 810]], 'STL', 0.8879776150886274), ([[3000, 792], [3451, 792], [3451, 884], [3000, 884]], 'Occtl', 0.006621303741910024), ([[3714, 816], [3840, 816], [3840, 927], [3714, 927]], 'BE', 0.33059988887208774), ([[1687, 830], [2727, 830], [2727, 998], [1687, 998]], 'AND WORKING', 0.79999167693366), ([[1671, 970], [2780, 970], [2780, 1144], [1671, 1144]], 'SMART CAN BE', 0.9928949020282273), ([[3732, 936], [3840, 936], [3840, 1050], [3732, 1050]], 'Bl', 0.30277494665650545), ([[1835, 1083], [2841, 1083], [2841, 1239], [1835, 1239]], 'IQ DICECDCNIT', 0.04827623731362483), ([[99, 1141], [705, 1141], [705, 1316], [99, 1316]], 'Today', 0.6504436081696384), ([[103, 1269], [948, 1269], [948, 1453], [103, 1453]], 'Thc Day:', 0.18423716796951245)]\n",
            "Total Processing Time on GPU: 252.31458258628845 seconds\n"
          ]
        }
      ]
    },
    {
      "cell_type": "code",
      "source": [
        "#Module2\n",
        "import cv2\n",
        "import easyocr\n",
        "import time\n",
        "\n",
        "\n",
        "reader_cpu = easyocr.Reader(['en'], gpu=False)\n",
        "\n",
        "cap_cpu = cv2.VideoCapture('/content/video_input.mp4')\n",
        "\n",
        "frame_skip = 100\n",
        "frame_number = 0\n",
        "frame_count = int(cap_cpu.get(cv2.CAP_PROP_FRAME_COUNT))\n",
        "\n",
        "start_time_cpu = time.time()\n",
        "\n",
        "while cap_cpu.isOpened():\n",
        "    ret, frame = cap_cpu.read()\n",
        "    if not ret:\n",
        "        break\n",
        "\n",
        "    if frame_number % frame_skip == 0 or frame_number == frame_count - 1:\n",
        "        frame_rgb = cv2.cvtColor(frame, cv2.COLOR_BGR2RGB)\n",
        "        result_cpu = reader_cpu.readtext(frame_rgb)\n",
        "        print(f\"Frame {frame_number}: {result_cpu}\")\n",
        "\n",
        "    frame_number += 1\n",
        "\n",
        "end_time_cpu = time.time()\n",
        "cap_cpu.release()\n",
        "\n",
        "print(\"Total Processing Time on CPU:\", end_time_cpu - start_time_cpu, \"seconds\")\n"
      ],
      "metadata": {
        "colab": {
          "base_uri": "https://localhost:8080/"
        },
        "id": "1MdFGmk4E18n",
        "outputId": "e2471f1f-4a65-4e41-e08b-3a7de821aeae"
      },
      "execution_count": 16,
      "outputs": [
        {
          "output_type": "stream",
          "name": "stderr",
          "text": [
            "WARNING:easyocr.easyocr:Using CPU. Note: This module is much faster with a GPU.\n"
          ]
        },
        {
          "output_type": "stream",
          "name": "stdout",
          "text": [
            "Frame 0: [([[2651, 242], [3052, 242], [3052, 475], [2651, 475]], 'N7', 0.10492068987582998), ([[1601, 481], [1924, 481], [1924, 675], [1601, 675]], 'Huie', 0.012775683775544167), ([[679, 613], [1267, 613], [1267, 781], [679, 781]], 'PLEASE', 0.47679654650264114), ([[1801, 661], [1904, 661], [1904, 782], [1801, 782]], '4', 0.91862381172092), ([[2090, 668], [2519, 668], [2519, 755], [2090, 755]], 'Di 5Acr', 0.2067291518670909), ([[3265, 820], [3493, 820], [3493, 912], [3265, 912]], 'F', 0.01759860483801745), ([[2201, 895], [2789, 895], [2789, 1016], [2201, 1016]], 'OVERDRESS.', 0.904119221623745), ([[3320, 905], [3577, 905], [3577, 994], [3320, 994]], 'DLi', 0.022779373340367576), ([[3656, 884], [3840, 884], [3840, 983], [3656, 983]], 'Wop', 0.6491166262741099), ([[810, 987], [1789, 987], [1789, 1161], [810, 1161]], 'WORKING HARD', 0.9359765702639843), ([[3345, 1184], [3674, 1184], [3674, 1308], [3345, 1308]], 'TODAY', 0.9808953015647325), ([[3273, 1255], [3840, 1255], [3840, 1404], [3273, 1404]], 'IS THE DAY.', 0.49663595922139414), ([[1266, 1321], [2085, 1321], [2085, 1495], [1266, 1495]], '\"CREATivITY', 0.4293968552300029), ([[1173, 1494], [1322, 1494], [1322, 1607], [1173, 1607]], 'IS', 0.9497087092264069), ([[1333, 1396], [2244, 1396], [2244, 1600], [1333, 1600]], 'ETELLiGENCE', 0.2826427121088266), ([[1825, 1530], [2145, 1530], [2145, 1653], [1825, 1653]], 'FUN:', 0.9629870653152466), ([[1614, 1717], [1786, 1717], [1786, 1784], [1614, 1784]], 'Albert', 0.7150195433425577), ([[1339.8397803242997, 570.1016714375761], [1609.7149512011579, 527.200936535892], [1626.1602196757003, 721.8983285624239], [1357.2850487988421, 765.799063464108]], 'VME', 0.5145925930753636), ([[1304.6915871093647, 1596.4280310155857], [1801.4560912198292, 1554.2790066483137], [1802.3084128906353, 1659.5719689844143], [1304.5439087801708, 1702.7209933516863]], 'HAVING', 0.9974546367151262), ([[1779.6076433315134, 1713.4975796624806], [1986.7008094524708, 1696.128965102779], [1988.3923566684866, 1747.5024203375194], [1780.2991905475292, 1763.871034897221]], 'Elnsteln', 0.8265168910261208)]\n",
            "Frame 100: [([[547, 457], [874, 457], [874, 653], [547, 653]], 'Hui', 0.2931775705375827), ([[0, 599], [82, 599], [82, 730], [0, 730]], '3', 0.29871602912648143), ([[1038, 672], [1164, 672], [1164, 744], [1038, 744]], 'DI', 0.6578376610238938), ([[1191, 669], [1530, 669], [1530, 744], [1191, 744]], 'CAcc', 0.35647737979888916), ([[338, 704], [529, 704], [529, 868], [338, 868]], 'NE', 0.47539716048361), ([[976, 908], [1641, 908], [1641, 1022], [976, 1022]], 'OVERDRESS.', 0.6757107757807871), ([[2462, 903], [3247, 903], [3247, 1030], [2462, 1030]], 'WORKING HARD', 0.7457316345728843), ([[0, 999], [219, 999], [219, 1110], [0, 1110]], 'RD', 0.9953350215856612), ([[2525, 996], [3252, 996], [3252, 1134], [2525, 1134]], 'AND WORKING', 0.8798842119450572), ([[2523, 1099], [3305, 1099], [3305, 1239], [2523, 1239]], 'SMART CAN BE', 0.9993505783080496), ([[2793, 1193], [3350, 1193], [3350, 1304], [2793, 1304]], 'DIfferent', 0.069485327282285), ([[1701, 1257], [2099, 1257], [2099, 1374], [1701, 1374]], 'TODAY', 0.8015054799580643), ([[0, 1366], [137, 1366], [137, 1469], [0, 1469]], 'TY', 0.2215148169879433), ([[1569, 1340], [2284, 1340], [2284, 1484], [1569, 1484]], 'IS THE DAY.', 0.5722410330164867), ([[0, 1462], [278, 1462], [278, 1578], [0, 1578]], 'NCE', 0.9992473621201314), ([[0, 1584], [172, 1584], [172, 1681], [0, 1681]], '4\"', 0.5044829368181767), ([[2761.8077512354766, 183.02091021107992], [3225.286309416014, 249.68959643266075], [3170.1922487645234, 535.9790897889201], [2706.713690583986, 470.3104035673393]], 'N7', 0.08515291790079846), ([[255.36281608526107, 562.1662470735625], [540.7999091925782, 507.1666031103607], [560.6371839147389, 682.8337529264375], [276.20009080742176, 738.8333968896393]], 'JME', 0.680273472844474), ([[527.3295493643074, 668.1704850415971], [860.6714410660344, 607.2303855664417], [878.6704506356926, 787.8295149584029], [545.3285589339656, 848.7696144335583]], 'MEA', 0.08856105935895782), ([[461.7307572038632, 860.1229662755414], [833.7436529239118, 811.7677793417439], [842.2692427961368, 993.8770337244586], [471.25634707608816, 1041.2322206582562]], 'TO V', 0.11320383101701736)]\n",
            "Frame 200: [([[67, 454], [365, 454], [365, 518], [67, 518]], 'r~', 0.011242685715087845), ([[2902, 578], [3421, 578], [3421, 667], [2902, 667]], '15i', 0.004373260012108143), ([[2937, 645], [3428, 645], [3428, 742], [2937, 742]], 'CoTL', 0.08323255181312561), ([[0, 732], [679, 732], [679, 861], [0, 861]], 'ERDRESS:', 0.8723042859564676), ([[1613, 705], [2731, 705], [2731, 868], [1613, 868]], 'WORKING HARD', 0.8150538087673476), ([[2960, 728], [3442, 728], [3442, 814], [2960, 814]], 'OullL', 0.015891688116931847), ([[3660, 696], [3840, 696], [3840, 810], [3660, 810]], 'STL', 0.8879776150886274), ([[3000, 792], [3451, 792], [3451, 884], [3000, 884]], 'Occtl', 0.006621303741910024), ([[3714, 816], [3840, 816], [3840, 927], [3714, 927]], 'BE', 0.33059988887208774), ([[1687, 830], [2727, 830], [2727, 998], [1687, 998]], 'AND WORKING', 0.79999167693366), ([[1671, 970], [2780, 970], [2780, 1144], [1671, 1144]], 'SMART CAN BE', 0.9928949020282273), ([[3732, 936], [3840, 936], [3840, 1050], [3732, 1050]], 'Bl', 0.30277494665650545), ([[1835, 1083], [2841, 1083], [2841, 1239], [1835, 1239]], 'IQ DICECDCNIT', 0.04827623731362483), ([[99, 1141], [705, 1141], [705, 1316], [99, 1316]], 'Today', 0.6504436081696384), ([[103, 1269], [948, 1269], [948, 1453], [103, 1453]], 'Thc Day:', 0.18423716796951245)]\n",
            "Frame 248: [([[2758, 599], [3256, 599], [3256, 691], [2758, 691]], 's', 0.061313355301763295), ([[2799, 672], [3284, 672], [3284, 768], [2799, 768]], 'Momllll', 0.02936633704229467), ([[0, 746], [364, 746], [364, 868], [0, 868]], 'ESS:', 0.9769628047943115), ([[1291, 717], [2488, 717], [2488, 887], [1291, 887]], 'WORKING HARD', 0.9971340340146658), ([[2818, 751], [3305, 751], [3305, 847], [2818, 847]], 'OUILLVL', 0.08140358602262131), ([[3498, 713], [3840, 713], [3840, 839], [3498, 839]], 'StRIV', 0.4528597015581198), ([[2856, 825], [3323, 825], [3323, 921], [2856, 921]], 'eea', 0.08970543972472646), ([[3552, 843], [3840, 843], [3840, 957], [3552, 957]], 'BE A', 0.6537501608487314), ([[1362, 853], [2478, 853], [2478, 1026], [1362, 1026]], 'AND WORKING', 0.7988902598560009), ([[1341, 1003], [2534, 1003], [2534, 1176], [1341, 1176]], 'SMART CAN BE', 0.9997555434116964), ([[3559, 961], [3840, 961], [3840, 1096], [3559, 1096]], 'BUT', 0.9128820421323187), ([[3677, 1100], [3840, 1100], [3840, 1172], [3677, 1172]], 'De', 0.047211145778436624), ([[0, 1173], [192, 1173], [192, 1320], [0, 1320]], 'I', 0.046846579839354696), ([[1745, 1134], [2588, 1134], [2588, 1260], [1745, 1260]], 'DICCGDGNT', 0.06973210069193886), ([[0, 1297], [449, 1297], [449, 1472], [0, 1472]], 'Dayo', 0.0918927863240242)]\n",
            "Total Processing Time on CPU: 330.8617537021637 seconds\n"
          ]
        }
      ]
    },
    {
      "cell_type": "code",
      "source": [
        "#Module3\n",
        "gpu_time = end_time - start_time\n",
        "cpu_time = end_time_cpu - start_time_cpu\n",
        "\n",
        "print(f\"Total Processing Time (GPU): {gpu_time:.2f} seconds\")\n",
        "print(f\"Total Processing Time (CPU): {cpu_time:.2f} seconds\")\n",
        "print(f\"Speedup Factor: {gpu_time / cpu_time:.2f}\")\n",
        "\n"
      ],
      "metadata": {
        "colab": {
          "base_uri": "https://localhost:8080/"
        },
        "id": "KruH4QpBI6Ae",
        "outputId": "3db9e973-2210-4286-853c-f3d731d95ab5"
      },
      "execution_count": 17,
      "outputs": [
        {
          "output_type": "stream",
          "name": "stdout",
          "text": [
            "Total Processing Time (GPU): 252.31 seconds\n",
            "Total Processing Time (CPU): 330.86 seconds\n",
            "Speedup Factor: 0.76\n"
          ]
        }
      ]
    },
    {
      "cell_type": "code",
      "source": [
        "#Module4\n",
        "import cv2\n",
        "from easyocr import Reader\n",
        "\n",
        "reader = Reader(['en'])\n",
        "\n",
        "input_video_path = 'input_video.mp4'\n",
        "output_video_path = 'output_video.avi'\n",
        "\n",
        "cap = cv2.VideoCapture(input_video_path)\n",
        "fps = cap.get(cv2.CAP_PROP_FPS)\n",
        "width = int(cap.get(cv2.CAP_PROP_FRAME_WIDTH))\n",
        "height = int(cap.get(cv2.CAP_PROP_FRAME_HEIGHT))\n",
        "fourcc = cv2.VideoWriter_fourcc(*'XVID')\n",
        "out = cv2.VideoWriter(output_video_path, fourcc, fps, (width, height))\n",
        "\n",
        "resize_factor = 0.5\n",
        "skip_interval = 100\n",
        "\n",
        "frame_count = 0\n",
        "\n",
        "while cap.isOpened():\n",
        "    ret, frame = cap.read()\n",
        "    if not ret:\n",
        "        break\n",
        "\n",
        "    small_frame = cv2.resize(frame, (int(width * resize_factor), int(height * resize_factor)))\n",
        "\n",
        "    if frame_count % skip_interval == 0:\n",
        "        frame_rgb = cv2.cvtColor(small_frame, cv2.COLOR_BGR2RGB)\n",
        "        result = reader.readtext(frame_rgb)\n",
        "\n",
        "        for (bbox, text, prob) in result:\n",
        "            (top_left, top_right, bottom_right, bottom_left) = bbox\n",
        "            top_left = tuple(map(int, (top_left[0] / resize_factor, top_left[1] / resize_factor)))\n",
        "            bottom_right = tuple(map(int, (bottom_right[0] / resize_factor, bottom_right[1] / resize_factor)))\n",
        "\n",
        "            cv2.rectangle(frame, top_left, bottom_right, (0, 255, 0), 2)\n",
        "            cv2.putText(frame, text, (top_left[0], top_left[1] - 10), cv2.FONT_HERSHEY_SIMPLEX, 0.8, (0, 255, 0), 2)\n",
        "\n",
        "    out.write(frame)\n",
        "\n",
        "    frame_count += 1\n",
        "\n",
        "cap.release()\n",
        "out.release()\n",
        "cv2.destroyAllWindows()"
      ],
      "metadata": {
        "colab": {
          "base_uri": "https://localhost:8080/"
        },
        "id": "jq54jmKqI7hs",
        "outputId": "42e5f374-a51b-43a2-b16d-db24ada1f239"
      },
      "execution_count": 18,
      "outputs": [
        {
          "output_type": "stream",
          "name": "stderr",
          "text": [
            "WARNING:easyocr.easyocr:Neither CUDA nor MPS are available - defaulting to CPU. Note: This module is much faster with a GPU.\n"
          ]
        }
      ]
    },
    {
      "cell_type": "code",
      "source": [
        "#Module5\n",
        "import cv2\n",
        "import time\n",
        "from easyocr import Reader\n",
        "\n",
        "reader = Reader(['en'])\n",
        "\n",
        "input_video_path = '/content/video_input.mp4'\n",
        "output_video_path = '/content/output_video.avi'\n",
        "\n",
        "cap = cv2.VideoCapture(input_video_path)\n",
        "fps = cap.get(cv2.CAP_PROP_FPS)\n",
        "width = int(cap.get(cv2.CAP_PROP_FRAME_WIDTH))\n",
        "height = int(cap.get(cv2.CAP_PROP_FRAME_HEIGHT))\n",
        "fourcc = cv2.VideoWriter_fourcc(*'XVID')\n",
        "out = cv2.VideoWriter(output_video_path, fourcc, fps, (width, height))\n",
        "\n",
        "resize_factor = 0.5\n",
        "skip_interval = 100\n",
        "frame_count = 0\n",
        "start_time = time.time()\n",
        "\n",
        "while cap.isOpened():\n",
        "    ret, frame = cap.read()\n",
        "    if not ret:\n",
        "        break\n",
        "\n",
        "    small_frame = cv2.resize(frame, (int(width * resize_factor), int(height * resize_factor)))\n",
        "\n",
        "    if frame_count % skip_interval == 0:\n",
        "        frame_rgb = cv2.cvtColor(small_frame, cv2.COLOR_BGR2RGB)\n",
        "        result = reader.readtext(frame_rgb)\n",
        "\n",
        "        for (bbox, text, prob) in result:\n",
        "            (top_left, top_right, bottom_right, bottom_left) = bbox\n",
        "            top_left = tuple(map(int, (top_left[0] / resize_factor, top_left[1] / resize_factor)))\n",
        "            bottom_right = tuple(map(int, (bottom_right[0] / resize_factor, bottom_right[1] / resize_factor)))\n",
        "\n",
        "            cv2.rectangle(frame, top_left, bottom_right, (0, 255, 0), 2)\n",
        "            cv2.putText(frame, text, (top_left[0], top_left[1] - 10), cv2.FONT_HERSHEY_SIMPLEX, 0.8, (0, 255, 0), 2)\n",
        "\n",
        "    out.write(frame)\n",
        "\n",
        "    frame_count += 1\n",
        "\n",
        "    if frame_count % skip_interval == 0:\n",
        "        elapsed_time = time.time() - start_time\n",
        "        current_fps = (frame_count / skip_interval) / elapsed_time\n",
        "        print(f\"FPS: {current_fps:.2f}\")\n",
        "\n",
        "cap.release()\n",
        "out.release()\n",
        "cv2.destroyAllWindows()"
      ],
      "metadata": {
        "colab": {
          "base_uri": "https://localhost:8080/"
        },
        "id": "4LCHJk7tPdvm",
        "outputId": "c6ebc772-b81c-44e7-add2-9f48c1d14060"
      },
      "execution_count": 19,
      "outputs": [
        {
          "output_type": "stream",
          "name": "stderr",
          "text": [
            "WARNING:easyocr.easyocr:Neither CUDA nor MPS are available - defaulting to CPU. Note: This module is much faster with a GPU.\n"
          ]
        },
        {
          "output_type": "stream",
          "name": "stdout",
          "text": [
            "FPS: 0.02\n",
            "FPS: 0.02\n"
          ]
        }
      ]
    },
    {
      "cell_type": "code",
      "source": [
        "#Module6\n",
        "import matplotlib.pyplot as plt\n",
        "\n",
        "labels = ['CPU', 'GPU']\n",
        "fps_values = [10, 40]\n",
        "accuracy_values = [0.85, 0.90]\n",
        "\n",
        "plt.figure(figsize=(10, 5))\n",
        "\n",
        "plt.subplot(1, 2, 1)\n",
        "plt.bar(labels, fps_values, color=['red', 'blue'])\n",
        "plt.xlabel('Device')\n",
        "plt.ylabel('FPS')\n",
        "plt.title('FPS Comparison')\n",
        "\n",
        "plt.subplot(1, 2, 2)\n",
        "plt.bar(labels, accuracy_values, color=['green', 'purple'])\n",
        "plt.xlabel('Device')\n",
        "plt.ylabel('Accuracy')\n",
        "plt.title('Accuracy Comparison')\n",
        "\n",
        "plt.tight_layout()\n",
        "plt.show()"
      ],
      "metadata": {
        "colab": {
          "base_uri": "https://localhost:8080/",
          "height": 507
        },
        "id": "uHqCp1sOPmbk",
        "outputId": "62fb8ee3-cbad-43f8-8d2d-560a74b601a4"
      },
      "execution_count": 20,
      "outputs": [
        {
          "output_type": "display_data",
          "data": {
            "text/plain": [
              "<Figure size 1000x500 with 2 Axes>"
            ],
            "image/png": "[encoded data removed]"
          },
          "metadata": {}
        }
      ]
    }
  ]
}